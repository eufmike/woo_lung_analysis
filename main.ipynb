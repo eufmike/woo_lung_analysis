{
 "cells": [
  {
   "cell_type": "markdown",
   "metadata": {},
   "source": [
    "# Lung Vasculature Analysis\n",
    "This notebook (.ipynb) is a working project for analyzing lung vasculature. It inculdes three parts:\n",
    "1. converts skeleton analytical output (.xml) into .csv file.  \n",
    "2. calulates the length and average thickness of each segment.\n",
    "3. makes two types of plots: \n",
    "    1. histogram of each dataset on length and thickness\n",
    "    2. average histogram on length and thickness (line plot with error bars)\n"
   ]
  },
  {
   "cell_type": "code",
   "execution_count": 62,
   "metadata": {},
   "outputs": [
    {
     "name": "stdout",
     "output_type": "stream",
     "text": [
      "The autoreload extension is already loaded. To reload it, use:\n",
      "  %reload_ext autoreload\n"
     ]
    }
   ],
   "source": [
    "%load_ext autoreload\n",
    "%autoreload 2\n",
    "import os, sys, re, io\n",
    "import numpy as np\n",
    "import pandas as pd\n",
    "from tqdm import tqdm\n",
    "import time\n",
    "from core.fileop import DirCheck, ListFiles\n",
    "import core.mkplot as mkplot "
   ]
  },
  {
   "cell_type": "markdown",
   "metadata": {},
   "source": [
    " ## Part 1: \n",
    " Converting skeleton analytical output (.xml) into .csv file.\n",
    " * Inputs: *.xml \n",
    " * Outputs: *.csv\n",
    " * Dependencies: xml, time, pandas, tqdm </br>\n",
    " \n",
    " * *.xml file includes three sheets: nodes, points, and segments. \n",
    " * Warning: the progress bar controled by `tqdm` is not functioning well. It can not overwrite itself and creates multiple lines. "
   ]
  },
  {
   "cell_type": "markdown",
   "metadata": {},
   "source": [
    "### Functions"
   ]
  },
  {
   "cell_type": "code",
   "execution_count": 63,
   "metadata": {},
   "outputs": [],
   "source": [
    "# import dependencies\n",
    "import xml.etree.ElementTree as etree\n",
    "from core.msxml import MSXmlReader\n",
    "\n",
    "# function\n",
    "def convert_xml_csv(ippath, oppath):\n",
    "    filelist, fileabslist = ListFiles(ippath, extension='.xml')\n",
    "    \n",
    "    for idx, f in enumerate(filelist):\n",
    "        filename = f.replace('.xml', '')\n",
    "        ip = os.path.join(ippath, f) \n",
    "        op = os.path.join(oppath, filename)\n",
    "        \n",
    "        print(ip)\n",
    "        print(op)\n",
    "\n",
    "        # create path\n",
    "        if filename not in os.listdir(oppath):\n",
    "            DirCheck(op)\n",
    "            \n",
    "            # convert *.xml to *.csv \n",
    "            csv_all = MSXmlReader(ip)\n",
    "            \n",
    "            # save each spreadsheet into individual *.csv file\n",
    "            for key, value in csv_all.items():\n",
    "                oppath_tmp = os.path.join(op, key + '.csv')\n",
    "                value.to_csv(oppath_tmp, index = False)\n"
   ]
  },
  {
   "cell_type": "markdown",
   "metadata": {},
   "source": [
    "### Execution\n",
    "To run the code, please change `path` to the directory hosts the raw data. "
   ]
  },
  {
   "cell_type": "code",
   "execution_count": 64,
   "metadata": {
    "scrolled": true
   },
   "outputs": [
    {
     "name": "stdout",
     "output_type": "stream",
     "text": [
      "/Users/major_minor1982/Documents/WUCCI/data/test/raw/16_FOR6-DCKO-Hypoxia.xml\n",
      "/Users/major_minor1982/Documents/WUCCI/data/test/csv/16_FOR6-DCKO-Hypoxia\n",
      "/Users/major_minor1982/Documents/WUCCI/data/test/raw/17_FOR7-DFF-Hypoxia.xml\n",
      "/Users/major_minor1982/Documents/WUCCI/data/test/csv/17_FOR7-DFF-Hypoxia\n"
     ]
    }
   ],
   "source": [
    "path = '/Users/major_minor1982/Documents/WUCCI/data/test'\n",
    "ipdir = 'raw'\n",
    "opdir = 'csv'\n",
    "ippath = os.path.join(path, ipdir)\n",
    "oppath = os.path.join(path, opdir)\n",
    "# make dir\n",
    "DirCheck(oppath)\n",
    "\n",
    "# convert files in batch\n",
    "convert_xml_csv(ippath, oppath)\n"
   ]
  },
  {
   "cell_type": "markdown",
   "metadata": {},
   "source": [
    " ## Part 2: \n",
    " Calulating the length and average thickness of each segment.\n",
    " * Inputs: nodes.csv, points.csv, segments.csv\n",
    " * Outputs: segments_s.csv\n",
    " \n",
    " `SegStats` extracts euclidean coordinates and thickness of each point, then calculate the total length and average thickness. "
   ]
  },
  {
   "cell_type": "markdown",
   "metadata": {},
   "source": [
    "### Functions"
   ]
  },
  {
   "cell_type": "code",
   "execution_count": 65,
   "metadata": {},
   "outputs": [],
   "source": [
    "# load dependencies\n",
    "from core.filamentanalysis import SegStats\n",
    "\n",
    "# function\n",
    "def stats_calculator(ippath, oppath):\n",
    "    imglist = [x for x in os.listdir(ippath) if not x.startswith('.')]\n",
    "    \n",
    "    var = ['df_nodes', 'df_points', 'df_segments']\n",
    "    for img in imglist:\n",
    "        filelist, fileabslist = ListFiles(os.path.join(ippath, img), extension='.csv')\n",
    "        \n",
    "        df_points = pd.read_csv(os.path.join(ippath, img, 'points.csv')) \n",
    "        df_segments = pd.read_csv(os.path.join(ippath, img, 'segments.csv')) \n",
    "        \n",
    "        opfilename = 'segments_s.csv'\n",
    "    \n",
    "        if opfilename not in filelist:\n",
    "            df_segments_s = SegStats(df_points, df_segments)            \n",
    "            df_segments_s.to_csv(os.path.join(oppath, img, opfilename), index = False)\n",
    "                "
   ]
  },
  {
   "cell_type": "markdown",
   "metadata": {},
   "source": [
    "### Execution\n",
    "To run the code, please change `path` to the directory hosts the raw data. "
   ]
  },
  {
   "cell_type": "code",
   "execution_count": 66,
   "metadata": {},
   "outputs": [],
   "source": [
    "path = '/Users/major_minor1982/Documents/WUCCI/data/test'\n",
    "ipdir = 'csv'\n",
    "opdir = 'csv'\n",
    "ippath = os.path.join(path, ipdir)\n",
    "oppath = os.path.join(path, opdir)\n",
    "# make dir\n",
    "DirCheck(oppath)\n",
    "\n",
    "# convert files in batch\n",
    "stats_calculator(ippath, oppath)"
   ]
  },
  {
   "cell_type": "markdown",
   "metadata": {},
   "source": [
    "## Part 3: \n",
    "Creating two sets of plots: \n",
    "1. histogram of each dataset on length and thickness\n",
    "2. average histogram on length and thickness (line plot with error bars)\n",
    "\n",
    " * Inputs: segments_s.csv\n",
    " * Outputs: \n",
    "     1. `histo/length/*.png`: frequency - length (µm)\n",
    "     2. `histo/thickness/*.png`: frequency - thickness (µm)\n",
    "     3. `histo_summary/length.png`: histogram in line plot style\n",
    "     4. `histo_summary/thickness.png`: histogram in line plot style\n",
    " \n",
    " `SegStats` extracts euclidean coordinates and thickness of each point, then calculate the total length and average thickness. "
   ]
  },
  {
   "cell_type": "code",
   "execution_count": 107,
   "metadata": {},
   "outputs": [],
   "source": [
    "# import depandencies\n",
    "import matplotlib.pyplot as plt\n",
    "import matplotlib.style as style\n",
    "style.use('default')\n",
    "from core.mkplot import GroupImg, FindRange, IndividualHisto \n",
    "\n",
    "# functions\n",
    "def make_individul_plots(ippath, oppath):\n",
    "    # extract file list\n",
    "    imglist = [x for x in os.listdir(ippath) if not x.startswith('.')]\n",
    "    # get range\n",
    "    length_range, thickness_range = FindRange(ippath)\n",
    "    # print(length_range, thickness_range)\n",
    "    \n",
    "    # create labels\n",
    "    xlabel = ['Length (µm)', 'Thickness (µm)'] \n",
    "\n",
    "    # make histogram for individual dataset\n",
    "    for img in imglist:\n",
    "        \n",
    "        df_segments_s = pd.read_csv(os.path.join(ippath, img, 'segments_s.csv'))\n",
    "        \n",
    "        # histogram for average length  \n",
    "        plt.figure(figsize=(5, 5))\n",
    "        \n",
    "        ax = IndividualHisto(df_segments_s, column = 'length', bin_range = length_range)\n",
    "        ax.set_xlabel(xlabel[0])\n",
    "        ax.set_ylabel('Frequency (%)')\n",
    "                   \n",
    "        DirCheck(os.path.join(oppath, 'histo', 'length'))\n",
    "        opfilename = os.path.join(oppath, 'histo', 'length', img + '.png')\n",
    "        plt.savefig(opfilename)\n",
    "        plt.close()\n",
    "\n",
    "        # histogram for average thickness    \n",
    "        plt.figure(figsize=(5, 5))\n",
    "\n",
    "        ax = IndividualHisto(df_segments_s, column = 'thickness', bin_range = thickness_range)\n",
    "        ax.set_xlabel(xlabel[1])\n",
    "        ax.set_ylabel('Frequency (%)')\n",
    "        \n",
    "        DirCheck(os.path.join(oppath, 'histo', 'thickness'))\n",
    "        opfilename = os.path.join(oppath, 'histo', 'thickness', img + '.png')\n",
    "        plt.savefig(opfilename)\n",
    "        plt.close()   \n",
    "\n",
    "    return    \n",
    "\n",
    "def make_merged_plots(ippath, oppath):\n",
    "    # extract file list\n",
    "    imglist = [x for x in os.listdir(ippath) if not x.startswith('.')]\n",
    "    # get range\n",
    "    length_range, thickness_range = find_range(ippath)\n",
    "    \n",
    "    # create labels\n",
    "    xlabel = ['Length (µm)', 'Thickness (µm)']\n",
    "    \n",
    "    # treatment\n",
    "    grp_imglist = GroupImg(ippath, fileinfo)\n",
    "    \n",
    "    plt.figure(figsize=(5, 5))\n",
    "    dflist = []\n",
    "    for treatment, imgs in grp_imglist.items():\n",
    "        binsize = 100\n",
    "        \n",
    "        bins = np.linspace(length_range[0], length_range[1], binsize) \n",
    "        \n",
    "        for img in imgs:\n",
    "            df_segments_s = pd.read_csv(os.path.join(ippath, img, 'segments_s.csv'))\n",
    "            df_segments_s['bins'] = pd.cut(df_segments_s['length'], bins = bins)\n",
    "            df_bins_count = df_segments_s.groupby('bins').size()\n",
    "            df_bins_count = df_bins_count.reset_index()\n",
    "            df_bins_count = df_bins_count.iloc[:, 1]\n",
    "            dflist.append(df_bins_count)\n",
    "        \n",
    "        df_tmp = pd.concat(dflist, axis = 1)\n",
    "        dfarray = np.array(df_tmp)\n",
    "        mean = dfarray.mean(axis = 1, keepdims = True)\n",
    "        #print(mean)\n",
    "        sem = stats.sem(dfarray, axis = 1)\n",
    "        #print(sem)\n",
    "        ax1 = plt.subplot(111)\n",
    "        bins_length = np.array([bins[0:-1]]).T\n",
    "        # print(bins_length.shape)\n",
    "        # print(mean.shape)\n",
    "        ax1.errorbar(bins_length, mean, yerr = sem, alpha = 0.2)\n",
    "        ax1.set_xlabel(xlabel[0])\n",
    "        ax1.set_ylabel('Frequency (%)')\n",
    "    \n",
    "        opfilename = os.path.join(oppath, 'histo_summary', treatment + 'length.png')\n",
    "        plt.savefig(opfilename)\n",
    "        plt.show()\n",
    "        plt.close()\n",
    "    \n",
    "    plt.figure(figsize=(5, 5))\n",
    "    dflist = []\n",
    "    for treatment, imgs in grp_imglist.items():\n",
    "        binsize = 100\n",
    "        \n",
    "        bins = np.linspace(thickness_range[0], thickness_range[1], binsize) \n",
    "        \n",
    "        for img in imgs:\n",
    "            df_segments_s = pd.read_csv(os.path.join(ippath, img, 'segments_s.csv'))\n",
    "            df_segments_s['bins'] = pd.cut(df_segments_s['thickness'], bins = bins)\n",
    "            df_bins_count = df_segments_s.groupby('bins').size()\n",
    "            df_bins_count = df_bins_count.reset_index()\n",
    "            df_bins_count = df_bins_count.iloc[:, 1]\n",
    "            dflist.append(df_bins_count)\n",
    "        \n",
    "        df_tmp = pd.concat(dflist, axis = 1)\n",
    "        dfarray = np.array(df_tmp)\n",
    "        mean = dfarray.mean(axis = 1, keepdims = True)\n",
    "        #print(mean)\n",
    "        sem = stats.sem(dfarray, axis = 1)\n",
    "        #print(sem)\n",
    "        ax1 = plt.subplot(111)\n",
    "        bins_length = np.array([bins[0:-1]]).T\n",
    "        # print(bins_length.shape)\n",
    "        # print(mean.shape)\n",
    "        ax1.errorbar(bins_length, mean, yerr = sem, alpha = 0.2)\n",
    "        ax1.set_xlabel(xlabel[1])\n",
    "        ax1.set_ylabel('Frequency (%)')\n",
    "        \n",
    "        opfilename = os.path.join(oppath, 'histo_summary', treatment + 'thickness.png')\n",
    "        plt.savefig(opfilename)\n",
    "        plt.show()\n",
    "        plt.close()\n",
    "\n",
    "    return"
   ]
  },
  {
   "cell_type": "code",
   "execution_count": 108,
   "metadata": {},
   "outputs": [],
   "source": [
    "path = '/Users/major_minor1982/Documents/WUCCI/data/test'\n",
    "ipdir = 'csv'\n",
    "opdir1 = 'plot'\n",
    "opdir2 = 'histogram'\n",
    "subfolder = ['histo', 'histo_summary']\n",
    "ippath = os.path.join(path, ipdir)\n",
    "oppath = os.path.join(path, opdir1, opdir2)\n",
    "for i in subfolder:\n",
    "    oppath_sub = os.path.join(oppath, i)\n",
    "    DirCheck(oppath_sub)"
   ]
  },
  {
   "cell_type": "code",
   "execution_count": 109,
   "metadata": {},
   "outputs": [
    {
     "data": {
      "image/png": "[encoded data removed]",
      "text/plain": [
       "<Figure size 500x500 with 1 Axes>"
      ]
     },
     "metadata": {},
     "output_type": "display_data"
    },
    {
     "data": {
      "image/png": "[encoded data removed]",
      "text/plain": [
       "<Figure size 500x500 with 1 Axes>"
      ]
     },
     "metadata": {},
     "output_type": "display_data"
    }
   ],
   "source": [
    "# load fileinfo\n",
    "fileinfo = pd.read_csv(os.path.join(path, 'par', 'lung_file_idx.csv'))\n",
    "# display(fileinfo)\n",
    "\n",
    "make_individul_plots(ippath, oppath)\n",
    "make_merged_plots(ippath, oppath)"
   ]
  },
  {
   "cell_type": "code",
   "execution_count": null,
   "metadata": {},
   "outputs": [],
   "source": []
  }
 ],
 "metadata": {
  "file_extension": ".py",
  "kernelspec": {
   "display_name": "Python 3",
   "language": "python",
   "name": "python3"
  },
  "language_info": {
   "codemirror_mode": {
    "name": "ipython",
    "version": 3
   },
   "file_extension": ".py",
   "mimetype": "text/x-python",
   "name": "python",
   "nbconvert_exporter": "python",
   "pygments_lexer": "ipython3",
   "version": "3.6.8"
  },
  "mimetype": "text/x-python",
  "name": "python",
  "npconvert_exporter": "python",
  "pygments_lexer": "ipython3",
  "version": 3
 },
 "nbformat": 4,
 "nbformat_minor": 2
}
