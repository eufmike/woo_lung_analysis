{
 "cells": [
  {
   "cell_type": "markdown",
   "metadata": {},
   "source": [
    "# Lung Vasculature Analysis\n",
    "This notebook (.ipynb) is a working project for analyzing lung vasculature. It inculdes three parts:\n",
    "1. converts skeleton analytical output (.xml) into .csv file.  \n",
    "2. calulates the length and average thickness of each segment.\n",
    "3. makes two types of plots: \n",
    "    1. histogram of each dataset on length and thickness\n",
    "    2. average histogram on length and thickness (line plot with error bars)\n"
   ]
  },
  {
   "cell_type": "code",
   "execution_count": 1,
   "metadata": {},
   "outputs": [],
   "source": [
    "%load_ext autoreload\n",
    "%autoreload 2\n",
    "import os, sys, re, io\n",
    "import numpy as np\n",
    "import pandas as pd\n",
    "from tqdm import tqdm\n",
    "import time\n",
    "from core.fileop import DirCheck, ListFiles\n",
    "import core.mkplot as mkplot "
   ]
  },
  {
   "cell_type": "markdown",
   "metadata": {},
   "source": [
    " ## Part 1: \n",
    " Converting skeleton analytical output (.xml) into .csv file.\n",
    " * Inputs: *.xml \n",
    " * Outputs: *.csv\n",
    " * Dependencies: xml, time, pandas, tqdm </br>\n",
    " \n",
    " * *.xml file includes three sheets: nodes, points, and segments. \n",
    " * Warning: the progress bar controled by `tqdm` is not functioning well. It can not overwrite itself and creates multiple lines. "
   ]
  },
  {
   "cell_type": "markdown",
   "metadata": {},
   "source": [
    "### Functions"
   ]
  },
  {
   "cell_type": "code",
   "execution_count": 2,
   "metadata": {},
   "outputs": [],
   "source": [
    "# import dependencies\n",
    "import xml.etree.ElementTree as etree\n",
    "from core.msxml import MSXmlReader\n",
    "\n",
    "# function\n",
    "def convert_xml_csv(ippath, oppath):\n",
    "    filelist, fileabslist = ListFiles(ippath, extension='.xml')\n",
    "    \n",
    "    for idx, f in enumerate(filelist):\n",
    "        filename = f.replace('.xml', '')\n",
    "        ip = os.path.join(ippath, f) \n",
    "        op = os.path.join(oppath, filename)\n",
    "        \n",
    "        print(ip)\n",
    "        print(op)\n",
    "\n",
    "        # create path\n",
    "        if filename not in os.listdir(oppath):\n",
    "            DirCheck(op)\n",
    "            \n",
    "            # convert *.xml to *.csv \n",
    "            csv_all = MSXmlReader(ip)\n",
    "            \n",
    "            # save each spreadsheet into individual *.csv file\n",
    "            for key, value in csv_all.items():\n",
    "                oppath_tmp = os.path.join(op, key + '.csv')\n",
    "                value.to_csv(oppath_tmp, index = False)\n"
   ]
  },
  {
   "cell_type": "markdown",
   "metadata": {},
   "source": [
    "### Execution\n",
    "To run the code, please change `path` to the directory hosts the raw data. "
   ]
  },
  {
   "cell_type": "code",
   "execution_count": 3,
   "metadata": {
    "scrolled": true
   },
   "outputs": [
    {
     "name": "stdout",
     "output_type": "stream",
     "text": [
      "/Volumes/LaCie_DataStorage/Woo-lungs/2019/raw/10_Hypoxia6-2.xml\n",
      "/Volumes/LaCie_DataStorage/Woo-lungs/2019/csv/10_Hypoxia6-2\n"
     ]
    },
    {
     "name": "stderr",
     "output_type": "stream",
     "text": [
      "100%|██████████| 26663/26663 [00:00<00:00, 394382.67it/s]\n",
      "  8%|▊         | 40818/505888 [00:00<00:01, 408176.50it/s]"
     ]
    },
    {
     "name": "stdout",
     "output_type": "stream",
     "text": [
      "<Element '{urn:schemas-microsoft-com:office:spreadsheet}Workbook' at 0x7fa449843d18>\n",
      "loading time: 13.312196969985962\n"
     ]
    },
    {
     "name": "stderr",
     "output_type": "stream",
     "text": [
      "100%|██████████| 505888/505888 [00:01<00:00, 396739.78it/s]\n",
      "100%|██████████| 31231/31231 [00:00<00:00, 444664.25it/s]\n"
     ]
    },
    {
     "name": "stdout",
     "output_type": "stream",
     "text": [
      "/Volumes/LaCie_DataStorage/Woo-lungs/2019/raw/11_FOR3-DFF-Normoxia.xml\n",
      "/Volumes/LaCie_DataStorage/Woo-lungs/2019/csv/11_FOR3-DFF-Normoxia\n"
     ]
    },
    {
     "name": "stderr",
     "output_type": "stream",
     "text": [
      "100%|██████████| 4967/4967 [00:00<00:00, 398513.84it/s]\n",
      " 39%|███▊      | 38889/100975 [00:00<00:00, 388878.32it/s]"
     ]
    },
    {
     "name": "stdout",
     "output_type": "stream",
     "text": [
      "<Element '{urn:schemas-microsoft-com:office:spreadsheet}Workbook' at 0x7fa387a433b8>\n",
      "loading time: 1.8606479167938232\n"
     ]
    },
    {
     "name": "stderr",
     "output_type": "stream",
     "text": [
      "100%|██████████| 100975/100975 [00:00<00:00, 377713.75it/s]\n",
      "100%|██████████| 4611/4611 [00:00<00:00, 398244.25it/s]\n"
     ]
    },
    {
     "name": "stdout",
     "output_type": "stream",
     "text": [
      "/Volumes/LaCie_DataStorage/Woo-lungs/2019/raw/12_FOR4-DFF-Normoxia.xml\n",
      "/Volumes/LaCie_DataStorage/Woo-lungs/2019/csv/12_FOR4-DFF-Normoxia\n"
     ]
    },
    {
     "name": "stderr",
     "output_type": "stream",
     "text": [
      "100%|██████████| 6764/6764 [00:00<00:00, 394975.11it/s]\n",
      " 30%|███       | 39495/131625 [00:00<00:00, 394945.67it/s]"
     ]
    },
    {
     "name": "stdout",
     "output_type": "stream",
     "text": [
      "<Element '{urn:schemas-microsoft-com:office:spreadsheet}Workbook' at 0x7fa4498102c8>\n",
      "loading time: 3.495182991027832\n"
     ]
    },
    {
     "name": "stderr",
     "output_type": "stream",
     "text": [
      "100%|██████████| 131625/131625 [00:00<00:00, 387538.18it/s]\n",
      "100%|██████████| 7298/7298 [00:00<00:00, 439010.84it/s]\n"
     ]
    },
    {
     "name": "stdout",
     "output_type": "stream",
     "text": [
      "/Volumes/LaCie_DataStorage/Woo-lungs/2019/raw/13_FOR5-DFF-Hypoxia.xml\n",
      "/Volumes/LaCie_DataStorage/Woo-lungs/2019/csv/13_FOR5-DFF-Hypoxia\n"
     ]
    },
    {
     "name": "stderr",
     "output_type": "stream",
     "text": [
      "100%|██████████| 8213/8213 [00:00<00:00, 423983.59it/s]\n",
      "  6%|▌         | 9710/159673 [00:00<00:07, 19224.75it/s]"
     ]
    },
    {
     "name": "stdout",
     "output_type": "stream",
     "text": [
      "<Element '{urn:schemas-microsoft-com:office:spreadsheet}Workbook' at 0x7fa4498102c8>\n",
      "loading time: 3.900754928588867\n"
     ]
    },
    {
     "name": "stderr",
     "output_type": "stream",
     "text": [
      "100%|██████████| 159673/159673 [00:00<00:00, 174860.86it/s]\n",
      "100%|██████████| 8325/8325 [00:00<00:00, 455587.34it/s]\n"
     ]
    },
    {
     "name": "stdout",
     "output_type": "stream",
     "text": [
      "/Volumes/LaCie_DataStorage/Woo-lungs/2019/raw/14_FOR1-DCKO-Hypoxia.xml\n",
      "/Volumes/LaCie_DataStorage/Woo-lungs/2019/csv/14_FOR1-DCKO-Hypoxia\n"
     ]
    },
    {
     "name": "stderr",
     "output_type": "stream",
     "text": [
      "100%|██████████| 5588/5588 [00:00<00:00, 390877.07it/s]\n",
      " 30%|███       | 38858/127472 [00:00<00:00, 388575.74it/s]"
     ]
    },
    {
     "name": "stdout",
     "output_type": "stream",
     "text": [
      "<Element '{urn:schemas-microsoft-com:office:spreadsheet}Workbook' at 0x7fa4498102c8>\n",
      "loading time: 3.0855681896209717\n"
     ]
    },
    {
     "name": "stderr",
     "output_type": "stream",
     "text": [
      "100%|██████████| 127472/127472 [00:00<00:00, 371146.06it/s]\n",
      "100%|██████████| 5141/5141 [00:00<00:00, 409093.64it/s]\n"
     ]
    },
    {
     "name": "stdout",
     "output_type": "stream",
     "text": [
      "/Volumes/LaCie_DataStorage/Woo-lungs/2019/raw/15_FOR8-DCKO-Hypoxia.xml\n",
      "/Volumes/LaCie_DataStorage/Woo-lungs/2019/csv/15_FOR8-DCKO-Hypoxia\n"
     ]
    },
    {
     "name": "stderr",
     "output_type": "stream",
     "text": [
      "100%|██████████| 11769/11769 [00:00<00:00, 377293.09it/s]\n",
      " 15%|█▌        | 37928/245015 [00:00<00:00, 379279.46it/s]"
     ]
    },
    {
     "name": "stdout",
     "output_type": "stream",
     "text": [
      "<Element '{urn:schemas-microsoft-com:office:spreadsheet}Workbook' at 0x7fa448b438b8>\n",
      "loading time: 6.3087382316589355\n"
     ]
    },
    {
     "name": "stderr",
     "output_type": "stream",
     "text": [
      "100%|██████████| 245015/245015 [00:00<00:00, 384592.39it/s]\n",
      "100%|██████████| 11097/11097 [00:00<00:00, 442999.56it/s]\n"
     ]
    },
    {
     "name": "stdout",
     "output_type": "stream",
     "text": [
      "/Volumes/LaCie_DataStorage/Woo-lungs/2019/raw/16_FOR6-DCKO-Hypoxia.xml\n",
      "/Volumes/LaCie_DataStorage/Woo-lungs/2019/csv/16_FOR6-DCKO-Hypoxia\n"
     ]
    },
    {
     "name": "stderr",
     "output_type": "stream",
     "text": [
      "100%|██████████| 7933/7933 [00:00<00:00, 416370.47it/s]\n",
      " 33%|███▎      | 39944/121260 [00:00<00:00, 399437.52it/s]"
     ]
    },
    {
     "name": "stdout",
     "output_type": "stream",
     "text": [
      "<Element '{urn:schemas-microsoft-com:office:spreadsheet}Workbook' at 0x7fa448b438b8>\n",
      "loading time: 3.1546690464019775\n"
     ]
    },
    {
     "name": "stderr",
     "output_type": "stream",
     "text": [
      "100%|██████████| 121260/121260 [00:00<00:00, 387987.60it/s]\n",
      "100%|██████████| 6044/6044 [00:00<00:00, 425241.95it/s]\n"
     ]
    },
    {
     "name": "stdout",
     "output_type": "stream",
     "text": [
      "/Volumes/LaCie_DataStorage/Woo-lungs/2019/raw/17_FOR7-DFF-Hypoxia.xml\n",
      "/Volumes/LaCie_DataStorage/Woo-lungs/2019/csv/17_FOR7-DFF-Hypoxia\n"
     ]
    },
    {
     "name": "stderr",
     "output_type": "stream",
     "text": [
      "100%|██████████| 17497/17497 [00:00<00:00, 390584.68it/s]\n",
      " 11%|█         | 38539/356053 [00:00<00:00, 385382.10it/s]"
     ]
    },
    {
     "name": "stdout",
     "output_type": "stream",
     "text": [
      "<Element '{urn:schemas-microsoft-com:office:spreadsheet}Workbook' at 0x7fa448b431d8>\n",
      "loading time: 9.17671012878418\n"
     ]
    },
    {
     "name": "stderr",
     "output_type": "stream",
     "text": [
      "100%|██████████| 356053/356053 [00:00<00:00, 393214.52it/s]\n",
      "100%|██████████| 16923/16923 [00:00<00:00, 435552.24it/s]\n"
     ]
    },
    {
     "name": "stdout",
     "output_type": "stream",
     "text": [
      "/Volumes/LaCie_DataStorage/Woo-lungs/2019/raw/1_hypoxia_01.xml\n",
      "/Volumes/LaCie_DataStorage/Woo-lungs/2019/csv/1_hypoxia_01\n"
     ]
    },
    {
     "name": "stderr",
     "output_type": "stream",
     "text": [
      "100%|██████████| 24245/24245 [00:00<00:00, 374371.48it/s]\n",
      "  7%|▋         | 37117/518845 [00:00<00:01, 371169.47it/s]"
     ]
    },
    {
     "name": "stdout",
     "output_type": "stream",
     "text": [
      "<Element '{urn:schemas-microsoft-com:office:spreadsheet}Workbook' at 0x7fa43a897f48>\n",
      "loading time: 12.839516878128052\n"
     ]
    },
    {
     "name": "stderr",
     "output_type": "stream",
     "text": [
      "100%|██████████| 518845/518845 [00:01<00:00, 372855.02it/s]\n",
      "100%|██████████| 25307/25307 [00:00<00:00, 445019.88it/s]\n"
     ]
    },
    {
     "name": "stdout",
     "output_type": "stream",
     "text": [
      "/Volumes/LaCie_DataStorage/Woo-lungs/2019/raw/2_normoxia_01.xml\n",
      "/Volumes/LaCie_DataStorage/Woo-lungs/2019/csv/2_normoxia_01\n"
     ]
    },
    {
     "name": "stderr",
     "output_type": "stream",
     "text": [
      "100%|██████████| 24362/24362 [00:00<00:00, 406906.85it/s]\n",
      "  8%|▊         | 39620/487404 [00:00<00:01, 396191.88it/s]"
     ]
    },
    {
     "name": "stdout",
     "output_type": "stream",
     "text": [
      "<Element '{urn:schemas-microsoft-com:office:spreadsheet}Workbook' at 0x7fa33a6b8c28>\n",
      "loading time: 12.298280000686646\n"
     ]
    },
    {
     "name": "stderr",
     "output_type": "stream",
     "text": [
      "100%|██████████| 487404/487404 [00:01<00:00, 386809.25it/s]\n",
      "100%|██████████| 25858/25858 [00:00<00:00, 454054.28it/s]\n"
     ]
    },
    {
     "name": "stdout",
     "output_type": "stream",
     "text": [
      "/Volumes/LaCie_DataStorage/Woo-lungs/2019/raw/8_FOB5-Hypoxia.xml\n",
      "/Volumes/LaCie_DataStorage/Woo-lungs/2019/csv/8_FOB5-Hypoxia\n"
     ]
    },
    {
     "name": "stderr",
     "output_type": "stream",
     "text": [
      "100%|██████████| 12762/12762 [00:00<00:00, 416558.04it/s]\n",
      " 15%|█▍        | 39951/271951 [00:00<00:00, 399501.81it/s]"
     ]
    },
    {
     "name": "stdout",
     "output_type": "stream",
     "text": [
      "<Element '{urn:schemas-microsoft-com:office:spreadsheet}Workbook' at 0x7fa40c1226d8>\n",
      "loading time: 6.98842191696167\n"
     ]
    },
    {
     "name": "stderr",
     "output_type": "stream",
     "text": [
      "100%|██████████| 271951/271951 [00:00<00:00, 391013.41it/s]\n",
      "100%|██████████| 12791/12791 [00:00<00:00, 450849.97it/s]\n"
     ]
    },
    {
     "name": "stdout",
     "output_type": "stream",
     "text": [
      "/Volumes/LaCie_DataStorage/Woo-lungs/2019/raw/9_FOB7-Hypoxia.xml\n",
      "/Volumes/LaCie_DataStorage/Woo-lungs/2019/csv/9_FOB7-Hypoxia\n"
     ]
    },
    {
     "name": "stderr",
     "output_type": "stream",
     "text": [
      "100%|██████████| 15209/15209 [00:00<00:00, 412069.02it/s]\n",
      " 13%|█▎        | 40406/315222 [00:00<00:00, 404055.57it/s]"
     ]
    },
    {
     "name": "stdout",
     "output_type": "stream",
     "text": [
      "<Element '{urn:schemas-microsoft-com:office:spreadsheet}Workbook' at 0x7fa44b7bdf98>\n",
      "loading time: 7.6732261180877686\n"
     ]
    },
    {
     "name": "stderr",
     "output_type": "stream",
     "text": [
      "100%|██████████| 315222/315222 [00:00<00:00, 392671.79it/s]\n",
      "100%|██████████| 14396/14396 [00:00<00:00, 463533.01it/s]\n"
     ]
    }
   ],
   "source": [
    "path = '/Volumes/LaCie_DataStorage/Woo-lungs/2019'\n",
    "ipdir = 'raw'\n",
    "opdir = 'csv'\n",
    "ippath = os.path.join(path, ipdir)\n",
    "oppath = os.path.join(path, opdir)\n",
    "# make dir\n",
    "DirCheck(oppath)\n",
    "\n",
    "# convert files in batch\n",
    "convert_xml_csv(ippath, oppath)\n"
   ]
  },
  {
   "cell_type": "markdown",
   "metadata": {},
   "source": [
    " ## Part 2: \n",
    " Calulating the length and average thickness of each segment.\n",
    " * Inputs: nodes.csv, points.csv, segments.csv\n",
    " * Outputs: segments_s.csv\n",
    " \n",
    " `SegStats` extracts euclidean coordinates and thickness of each point, then calculate the total length and average thickness. "
   ]
  },
  {
   "cell_type": "markdown",
   "metadata": {},
   "source": [
    "### Functions"
   ]
  },
  {
   "cell_type": "code",
   "execution_count": 4,
   "metadata": {},
   "outputs": [],
   "source": [
    "# load dependencies\n",
    "from core.filamentanalysis import SegStats\n",
    "\n",
    "# function\n",
    "def stats_calculator(ippath, oppath):\n",
    "    imglist = [x for x in os.listdir(ippath) if not x.startswith('.')]\n",
    "    \n",
    "    var = ['df_nodes', 'df_points', 'df_segments']\n",
    "    for img in imglist:\n",
    "        filelist, fileabslist = ListFiles(os.path.join(ippath, img), extension='.csv')\n",
    "        \n",
    "        df_points = pd.read_csv(os.path.join(ippath, img, 'points.csv')) \n",
    "        df_segments = pd.read_csv(os.path.join(ippath, img, 'segments.csv')) \n",
    "        \n",
    "        opfilename = 'segments_s.csv'\n",
    "    \n",
    "        if opfilename not in filelist:\n",
    "            df_segments_s = SegStats(df_points, df_segments)            \n",
    "            df_segments_s.to_csv(os.path.join(oppath, img, opfilename), index = False)\n",
    "                "
   ]
  },
  {
   "cell_type": "markdown",
   "metadata": {},
   "source": [
    "### Execution\n",
    "To run the code, please change `path` to the directory hosts the raw data. "
   ]
  },
  {
   "cell_type": "code",
   "execution_count": 5,
   "metadata": {},
   "outputs": [
    {
     "name": "stderr",
     "output_type": "stream",
     "text": [
      "100%|██████████| 31231/31231 [01:47<00:00, 289.91it/s]\n",
      "100%|██████████| 4611/4611 [00:16<00:00, 286.60it/s]\n",
      "100%|██████████| 7298/7298 [00:25<00:00, 285.77it/s]\n",
      "100%|██████████| 8325/8325 [00:29<00:00, 284.23it/s]\n",
      "100%|██████████| 5141/5141 [00:19<00:00, 269.76it/s]\n",
      "100%|██████████| 11097/11097 [00:39<00:00, 281.02it/s]\n",
      "100%|██████████| 6044/6044 [00:21<00:00, 284.69it/s]\n",
      "100%|██████████| 16923/16923 [00:59<00:00, 284.15it/s]\n",
      "100%|██████████| 25307/25307 [01:31<00:00, 277.17it/s]\n",
      "100%|██████████| 25858/25858 [01:29<00:00, 290.51it/s]\n",
      "100%|██████████| 12791/12791 [00:43<00:00, 290.88it/s]\n",
      "100%|██████████| 14396/14396 [00:50<00:00, 283.19it/s]\n"
     ]
    }
   ],
   "source": [
    "path = '/Volumes/LaCie_DataStorage/Woo-lungs/2019'\n",
    "ipdir = 'csv'\n",
    "opdir = 'csv'\n",
    "ippath = os.path.join(path, ipdir)\n",
    "oppath = os.path.join(path, opdir)\n",
    "# make dir\n",
    "DirCheck(oppath)\n",
    "\n",
    "# convert files in batch\n",
    "stats_calculator(ippath, oppath)"
   ]
  },
  {
   "cell_type": "markdown",
   "metadata": {},
   "source": [
    "## Part 3: \n",
    "Creating two sets of plots: \n",
    "1. histogram of each dataset on length and thickness\n",
    "2. average histogram on length and thickness (line plot with error bars)\n",
    "\n",
    " * Inputs: segments_s.csv\n",
    " * Outputs: \n",
    "     1. `histo/length/*.png`: frequency - length (µm)\n",
    "     2. `histo/thickness/*.png`: frequency - thickness (µm)\n",
    "     3. `histo_summary/length.png`: histogram in line plot style\n",
    "     4. `histo_summary/thickness.png`: histogram in line plot style\n",
    " \n",
    " `SegStats` extracts euclidean coordinates and thickness of each point, then calculate the total length and average thickness. "
   ]
  },
  {
   "cell_type": "code",
   "execution_count": 15,
   "metadata": {},
   "outputs": [],
   "source": [
    "# import depandencies\n",
    "import matplotlib.pyplot as plt\n",
    "import matplotlib.style as style\n",
    "style.use('default')\n",
    "import scipy.stats as stats\n",
    "from core.mkplot import GroupImg, FindRange, IndividualHisto \n",
    "\n",
    "# functions\n",
    "def make_individul_plots(ippath, oppath):\n",
    "    # extract file list\n",
    "    imglist = [x for x in os.listdir(ippath) if not x.startswith('.')]\n",
    "    # get range\n",
    "    length_range, thickness_range = FindRange(ippath)\n",
    "    # print(length_range, thickness_range)\n",
    "    \n",
    "    # create labels\n",
    "    xlabel = ['Length (µm)', 'Thickness (µm)'] \n",
    "\n",
    "    # make histogram for individual dataset\n",
    "    for img in imglist:\n",
    "        \n",
    "        df_segments_s = pd.read_csv(os.path.join(ippath, img, 'segments_s.csv'))\n",
    "        \n",
    "        # histogram for average length  \n",
    "        plt.figure(figsize=(5, 5))\n",
    "        \n",
    "        ax = IndividualHisto(df_segments_s, column = 'length', bin_range = length_range)\n",
    "        ax.set_xlabel(xlabel[0])\n",
    "        ax.set_ylabel('Frequency (%)')\n",
    "                   \n",
    "        DirCheck(os.path.join(oppath, 'histo', 'length'))\n",
    "        opfilename = os.path.join(oppath, 'histo', 'length', img + '.png')\n",
    "        plt.savefig(opfilename)\n",
    "        plt.close()\n",
    "\n",
    "        # histogram for average thickness    \n",
    "        plt.figure(figsize=(5, 5))\n",
    "\n",
    "        ax = IndividualHisto(df_segments_s, column = 'thickness', bin_range = thickness_range)\n",
    "        ax.set_xlabel(xlabel[1])\n",
    "        ax.set_ylabel('Frequency (%)')\n",
    "        \n",
    "        DirCheck(os.path.join(oppath, 'histo', 'thickness'))\n",
    "        opfilename = os.path.join(oppath, 'histo', 'thickness', img + '.png')\n",
    "        plt.savefig(opfilename)\n",
    "        plt.close()   \n",
    "\n",
    "    return    \n",
    "\n",
    "def make_merged_plots(ippath, oppath):\n",
    "    # extract file list\n",
    "    imglist = [x for x in os.listdir(ippath) if not x.startswith('.')]\n",
    "    # get range\n",
    "    length_range, thickness_range = FindRange(ippath)\n",
    "    \n",
    "    # create labels\n",
    "    xlabel = ['Length (µm)', 'Thickness (µm)']\n",
    "    \n",
    "    # treatment\n",
    "    grp_imglist = GroupImg(ippath, fileinfo)\n",
    "    \n",
    "    plt.figure(figsize=(5, 5))\n",
    "    dflist = []\n",
    "    for treatment, imgs in grp_imglist.items():\n",
    "        binsize = 100\n",
    "        \n",
    "        bins = np.linspace(length_range[0], length_range[1], binsize) \n",
    "        \n",
    "        for img in imgs:\n",
    "            df_segments_s = pd.read_csv(os.path.join(ippath, img, 'segments_s.csv'))\n",
    "            df_segments_s['bins'] = pd.cut(df_segments_s['length'], bins = bins)\n",
    "            df_bins_count = df_segments_s.groupby('bins').size()\n",
    "            df_bins_count = df_bins_count.reset_index()\n",
    "            df_bins_count = df_bins_count.iloc[:, 1]\n",
    "            dflist.append(df_bins_count)\n",
    "        \n",
    "        df_tmp = pd.concat(dflist, axis = 1)\n",
    "        dfarray = np.array(df_tmp)\n",
    "        mean = dfarray.mean(axis = 1, keepdims = True)\n",
    "        #print(mean)\n",
    "        sem = stats.sem(dfarray, axis = 1)\n",
    "        #print(sem)\n",
    "        ax1 = plt.subplot(111)\n",
    "        bins_length = np.array([bins[0:-1]]).T\n",
    "        # print(bins_length.shape)\n",
    "        # print(mean.shape)\n",
    "        ax1.errorbar(bins_length, mean, yerr = sem, alpha = 0.2)\n",
    "        ax1.set_xlabel(xlabel[0])\n",
    "        ax1.set_ylabel('Frequency (%)')\n",
    "    \n",
    "        opfilename = os.path.join(oppath, 'histo_summary', treatment + '_length.png')\n",
    "        plt.savefig(opfilename)\n",
    "        plt.show()\n",
    "        plt.close()\n",
    "    \n",
    "    plt.figure(figsize=(5, 5))\n",
    "    dflist = []\n",
    "    for treatment, imgs in grp_imglist.items():\n",
    "        binsize = 100\n",
    "        \n",
    "        bins = np.linspace(thickness_range[0], thickness_range[1], binsize) \n",
    "        \n",
    "        for img in imgs:\n",
    "            df_segments_s = pd.read_csv(os.path.join(ippath, img, 'segments_s.csv'))\n",
    "            df_segments_s['bins'] = pd.cut(df_segments_s['thickness'], bins = bins)\n",
    "            df_bins_count = df_segments_s.groupby('bins').size()\n",
    "            df_bins_count = df_bins_count.reset_index()\n",
    "            df_bins_count = df_bins_count.iloc[:, 1]\n",
    "            dflist.append(df_bins_count)\n",
    "        \n",
    "        df_tmp = pd.concat(dflist, axis = 1)\n",
    "        dfarray = np.array(df_tmp)\n",
    "        mean = dfarray.mean(axis = 1, keepdims = True)\n",
    "        #print(mean)\n",
    "        sem = stats.sem(dfarray, axis = 1)\n",
    "        #print(sem)\n",
    "        ax1 = plt.subplot(111)\n",
    "        bins_length = np.array([bins[0:-1]]).T\n",
    "        # print(bins_length.shape)\n",
    "        # print(mean.shape)\n",
    "        ax1.errorbar(bins_length, mean, yerr = sem, alpha = 0.2)\n",
    "        ax1.set_xlabel(xlabel[1])\n",
    "        ax1.set_ylabel('Frequency (%)')\n",
    "        \n",
    "        opfilename = os.path.join(oppath, 'histo_summary', treatment + '_thickness.png')\n",
    "        plt.savefig(opfilename)\n",
    "        plt.show()\n",
    "        plt.close()\n",
    "\n",
    "    return"
   ]
  },
  {
   "cell_type": "code",
   "execution_count": 16,
   "metadata": {},
   "outputs": [],
   "source": [
    "path = '/Volumes/LaCie_DataStorage/Woo-lungs/2019'\n",
    "ipdir = 'csv'\n",
    "opdir1 = 'plot'\n",
    "opdir2 = 'histogram'\n",
    "subfolder = ['histo', 'histo_summary']\n",
    "ippath = os.path.join(path, ipdir)\n",
    "oppath = os.path.join(path, opdir1, opdir2)\n",
    "for i in subfolder:\n",
    "    oppath_sub = os.path.join(oppath, i)\n",
    "    DirCheck(oppath_sub)"
   ]
  },
  {
   "cell_type": "code",
   "execution_count": 17,
   "metadata": {},
   "outputs": [
    {
     "data": {
      "image/png": "[encoded data removed]",
      "text/plain": [
       "<Figure size 500x500 with 1 Axes>"
      ]
     },
     "metadata": {},
     "output_type": "display_data"
    },
    {
     "data": {
      "image/png": "[encoded data removed]",
      "text/plain": [
       "<Figure size 640x480 with 1 Axes>"
      ]
     },
     "metadata": {},
     "output_type": "display_data"
    },
    {
     "data": {
      "image/png": "[encoded data removed]",
      "text/plain": [
       "<Figure size 500x500 with 1 Axes>"
      ]
     },
     "metadata": {},
     "output_type": "display_data"
    },
    {
     "data": {
      "image/png": "[encoded data removed]",
      "text/plain": [
       "<Figure size 640x480 with 1 Axes>"
      ]
     },
     "metadata": {},
     "output_type": "display_data"
    }
   ],
   "source": [
    "# load fileinfo\n",
    "fileinfo = pd.read_csv(os.path.join(path, 'par', 'lung_file_idx.csv'))\n",
    "# display(fileinfo)\n",
    "\n",
    "make_individul_plots(ippath, oppath)\n",
    "make_merged_plots(ippath, oppath)"
   ]
  },
  {
   "cell_type": "code",
   "execution_count": null,
   "metadata": {},
   "outputs": [],
   "source": []
  }
 ],
 "metadata": {
  "file_extension": ".py",
  "kernelspec": {
   "display_name": "Python 3",
   "language": "python",
   "name": "python3"
  },
  "language_info": {
   "codemirror_mode": {
    "name": "ipython",
    "version": 3
   },
   "file_extension": ".py",
   "mimetype": "text/x-python",
   "name": "python",
   "nbconvert_exporter": "python",
   "pygments_lexer": "ipython3",
   "version": "3.6.8"
  },
  "mimetype": "text/x-python",
  "name": "python",
  "npconvert_exporter": "python",
  "pygments_lexer": "ipython3",
  "version": 3
 },
 "nbformat": 4,
 "nbformat_minor": 2
}
